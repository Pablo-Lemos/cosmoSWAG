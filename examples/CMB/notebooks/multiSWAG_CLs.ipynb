{
 "cells": [
  {
   "cell_type": "markdown",
   "id": "arctic-reform",
   "metadata": {},
   "source": [
    "# multiSWAG_CLs\n",
    "\n",
    "This module gets cosmological constraints from simulations of the CMB Cls using MultiSWAG"
   ]
  },
  {
   "cell_type": "code",
   "execution_count": 1,
   "id": "occasional-greenhouse",
   "metadata": {},
   "outputs": [],
   "source": [
    "import os\n",
    "import sys\n",
    "import numpy as np\n",
    "import torch\n",
    "sys.path.append(\"../cosmoswag\") \n",
    "from swag import SWAGModel\n",
    "from cmb_simulator import normalize_params, bin_cls\n",
    "os.environ[\"OMP_NUM_THREADS\"] = \"1\""
   ]
  },
  {
   "cell_type": "markdown",
   "id": "small-investing",
   "metadata": {},
   "source": [
    "#### Load the data"
   ]
  },
  {
   "cell_type": "code",
   "execution_count": 2,
   "id": "handed-mongolia",
   "metadata": {},
   "outputs": [],
   "source": [
    "cls = np.load('../cosmoswag/data/cmb_sims/cls.npy')\n",
    "params = np.load('../cosmoswag/data/cmb_sims/params.npy')\n",
    "\n",
    "theta_norm = normalize_params(params)\n",
    "_, binned_cls = bin_cls(cls, 250)\n",
    "\n",
    "x_train = torch.tensor(binned_cls[:-1000], dtype = torch.float32)\n",
    "y_train = torch.tensor(theta_norm[:-1000], dtype = torch.float32)\n",
    "x_val = torch.tensor(binned_cls[-1000:], dtype = torch.float32)\n",
    "y_val = torch.tensor(theta_norm[-1000:], dtype = torch.float32)"
   ]
  },
  {
   "cell_type": "markdown",
   "id": "favorite-shade",
   "metadata": {},
   "source": [
    "#### Set up the model"
   ]
  },
  {
   "cell_type": "code",
   "execution_count": 3,
   "id": "registered-harrison",
   "metadata": {},
   "outputs": [],
   "source": [
    "nin = x_train.shape[1]\n",
    "npars = y_train.shape[1]\n",
    "model = SWAGModel(nin=nin, npars = npars)"
   ]
  },
  {
   "cell_type": "markdown",
   "id": "dental-nepal",
   "metadata": {},
   "source": [
    "#### Train the model"
   ]
  },
  {
   "cell_type": "code",
   "execution_count": 4,
   "id": "higher-village",
   "metadata": {},
   "outputs": [
    {
     "data": {
      "application/vnd.jupyter.widget-view+json": {
       "model_id": "5f4369d28d8749ef93f4fcdac618d1cc",
       "version_major": 2,
       "version_minor": 0
      },
      "text/plain": [
       "  0%|          | 0/1000 [00:00<?, ?it/s]"
      ]
     },
     "metadata": {},
     "output_type": "display_data"
    },
    {
     "name": "stdout",
     "output_type": "stream",
     "text": [
      "-6.468251713044942\n",
      "-8.684000368118285\n",
      "-10.042971790075303\n",
      "-10.963573314666748\n",
      "-11.75559423828125\n",
      "-12.345546853542327\n",
      "-13.0621026802063\n",
      "-13.33070939540863\n",
      "-13.747318169593811\n",
      "-13.880367289543152\n",
      "-14.21072935128212\n",
      "-14.422856132030487\n",
      "-14.585385059833527\n",
      "-14.659226699829102\n",
      "-14.937807697296142\n",
      "-15.12814252758026\n",
      "-15.175326966285706\n",
      "-15.333603578090667\n",
      "-15.5980938911438\n",
      "-15.501675842285156\n",
      "-15.466918100833892\n",
      "-15.907477122306824\n",
      "-15.944769948959351\n",
      "-15.944108035087586\n",
      "-15.947532598972321\n",
      "-16.155468578338624\n",
      "-16.3186259765625\n",
      "-16.46942390155792\n",
      "-16.4266621761322\n",
      "-16.416811724662782\n",
      "-16.37236169242859\n",
      "-16.567069575309752\n",
      "-16.53030629825592\n",
      "-16.57252729892731\n",
      "-16.72109313774109\n",
      "-16.804513341903686\n",
      "-16.63850757217407\n",
      "-16.645695993423463\n",
      "-16.72141194152832\n",
      "-16.94272565460205\n",
      "-16.927290348052978\n",
      "-16.9880840511322\n",
      "-16.905860010147094\n",
      "-16.953386700630187\n",
      "-17.069968658447266\n",
      "-17.078384046554564\n",
      "-17.05252625274658\n",
      "-17.216133366584778\n",
      "-16.942270008087156\n",
      "-17.234126335144044\n",
      "-17.269711824417115\n",
      "-17.078150416374207\n",
      "-17.364332449913025\n",
      "-17.214258166313172\n",
      "-17.440118621826173\n",
      "-17.44790560436249\n",
      "-17.478352519989013\n",
      "-17.496071551799773\n",
      "-17.68193988418579\n",
      "-17.583866115570068\n",
      "-17.355638419151305\n",
      "-17.538059004306792\n",
      "-17.572572111129762\n",
      "-17.77733573055267\n",
      "-17.634707946777343\n",
      "-17.522245241165162\n",
      "-17.595487041950225\n",
      "-17.67894188404083\n",
      "-17.623590223312377\n",
      "-17.823824120521547\n",
      "-17.80745441532135\n",
      "-17.693634617805483\n",
      "-17.615940556526184\n",
      "-17.658030426979064\n",
      "-17.891458597183227\n",
      "-17.85279291629791\n",
      "-18.07253405189514\n",
      "-17.993793780326843\n",
      "-17.87757678318024\n",
      "-17.993866635322572\n",
      "-17.976319170951843\n",
      "-17.64927965092659\n",
      "-17.97917795944214\n",
      "-18.009212335586547\n",
      "-18.249447487831116\n",
      "-18.215142144203185\n",
      "-18.251451082706453\n",
      "-18.167519669532776\n",
      "-18.179558786392214\n",
      "-18.303757273674012\n",
      "-18.16864846992493\n",
      "-18.207699750900268\n",
      "-18.11942982006073\n",
      "-18.271730533599854\n",
      "-18.228092971801757\n",
      "-18.310913256645204\n",
      "-18.326287418365478\n",
      "-18.21712280845642\n",
      "-18.273180265903473\n",
      "-18.52303081226349\n",
      "-18.40476753807068\n",
      "-18.547009922981264\n",
      "-18.29792958831787\n",
      "-18.571286480903627\n",
      "-18.4850927028656\n",
      "-18.428317152023315\n",
      "-18.467962566375732\n",
      "-18.47965308380127\n",
      "-18.491253637313843\n",
      "-18.625833835601806\n",
      "-18.429411715507506\n",
      "-18.469098196029663\n",
      "-18.639333366394045\n",
      "-18.563645275592805\n",
      "-18.621386558532716\n",
      "-18.738406789779663\n",
      "-18.6281040725708\n",
      "-18.69383684062958\n",
      "-18.76072245979309\n",
      "-18.580036764144896\n",
      "-18.83215180492401\n",
      "-18.645299473762513\n",
      "-18.83905081653595\n",
      "-18.741175771713255\n",
      "-18.655779473304747\n",
      "-18.579747310638428\n",
      "-18.798284600257873\n",
      "-18.769378083229064\n",
      "-18.804617939949036\n",
      "-18.94701817035675\n",
      "-18.888860129356384\n",
      "-18.88326164150238\n",
      "-18.738639978408813\n",
      "-18.959787433624268\n",
      "-18.78206527519226\n",
      "-18.872040791511537\n",
      "-18.89932648849487\n",
      "-18.939574728012087\n",
      "-18.93821553993225\n",
      "-19.030691237449645\n",
      "-19.067760711669923\n",
      "-19.011095134735108\n",
      "-19.14957081413269\n",
      "-18.94609331035614\n",
      "-18.953189573287965\n",
      "-18.91666517829895\n",
      "-19.253081102371215\n",
      "-18.99252046108246\n",
      "-19.068046891212465\n",
      "-18.97344779586792\n",
      "-19.00562264060974\n",
      "-19.229788509368895\n",
      "-19.274574813842772\n",
      "-19.15475237941742\n",
      "-19.106188467979432\n",
      "-19.26280334186554\n",
      "-19.02212537288666\n",
      "-19.14022082901001\n",
      "-19.332310645103455\n",
      "-19.12161147594452\n",
      "-19.131183401107787\n",
      "-19.22506611442566\n",
      "-19.435920850753785\n",
      "-19.263344213485716\n",
      "-19.360099497795105\n",
      "-19.204047281265257\n",
      "-19.135179544448853\n",
      "-19.24465075588226\n",
      "-19.305360738754274\n",
      "-19.37045544719696\n",
      "-19.494415474891664\n",
      "-19.200819217681886\n",
      "-19.269420914649963\n",
      "-19.433114369392396\n",
      "-19.42418639564514\n",
      "-19.4505727558136\n",
      "-19.373834323883056\n",
      "-19.40646450328827\n",
      "-19.554876191139222\n",
      "-19.67364004611969\n",
      "-19.504516660690307\n",
      "-19.4170996465683\n",
      "-19.570032331466674\n",
      "-19.712599654197692\n",
      "-19.61251250267029\n",
      "-19.638739006996154\n",
      "-19.643112146377565\n",
      "-19.6625998044014\n",
      "-19.706590955734253\n",
      "-19.72870482635498\n",
      "-19.614245546340943\n",
      "-19.885553592681884\n",
      "-19.666770967483522\n",
      "-19.716731434822083\n",
      "-19.80022824382782\n",
      "-19.783213846206664\n",
      "-19.71335748386383\n",
      "-19.680993478775026\n",
      "-19.829703987121583\n",
      "-19.897959655761717\n",
      "-19.938007241249085\n",
      "-19.86671221923828\n",
      "-19.929347303390504\n",
      "-19.85613700199127\n",
      "-20.126706784248352\n",
      "-20.023060888290406\n",
      "-20.00772876358032\n",
      "-20.05820920944214\n",
      "-20.149991781234743\n",
      "-20.0973875579834\n",
      "-20.10665119934082\n",
      "-20.066437383651735\n",
      "-20.195139620780946\n",
      "-20.24939120769501\n",
      "-20.26435751533508\n",
      "-20.178152975082398\n",
      "-20.225694396018984\n",
      "-20.27799458026886\n",
      "-20.21024586391449\n",
      "-20.29355104446411\n",
      "-20.354806617736816\n",
      "-20.175942570686342\n",
      "-20.361529118537902\n",
      "-20.40482559108734\n",
      "-20.393453612327576\n",
      "-20.351420527458192\n",
      "-20.560704741477966\n",
      "-20.404611268043517\n",
      "-20.601312722206117\n",
      "-20.392301567077638\n",
      "-20.511752923965453\n",
      "-20.49077010154724\n",
      "-20.556675882339476\n",
      "-20.645991264343262\n",
      "-20.705119537353514\n",
      "-20.59622771167755\n",
      "-20.457908147335054\n",
      "-20.661105920791627\n",
      "-20.587356543540956\n",
      "-20.731971119880676\n",
      "-20.563708559036254\n",
      "-20.754525806427\n",
      "-20.71270798587799\n",
      "-20.72239841747284\n",
      "-20.69699551963806\n",
      "-20.72111602973938\n",
      "-20.689574578285217\n",
      "-20.694900650024415\n",
      "-20.662428462028505\n",
      "-20.545134278297425\n",
      "-20.685050045967103\n",
      "-20.71020977115631\n",
      "-20.612408546447753\n",
      "-20.775150628089904\n",
      "-20.712344491004945\n",
      "-20.77409043979645\n",
      "-20.849537948608397\n",
      "-20.857031878471375\n",
      "-20.726315373420714\n",
      "-20.920903250694273\n",
      "-20.785341455459594\n",
      "-20.80730578517914\n",
      "-20.80350120162964\n",
      "-20.731520203590392\n",
      "-20.83084588623047\n",
      "-20.89880552101135\n",
      "-20.921195135116577\n",
      "-21.045128149032593\n",
      "-20.92395109653473\n",
      "-20.951163528442382\n",
      "-20.918473168373108\n",
      "-20.726428411483763\n",
      "-20.942613039970396\n",
      "-20.79993976211548\n",
      "-20.905173926353456\n",
      "-20.882537428855898\n",
      "-21.071028405189516\n",
      "-20.73264328289032\n",
      "-21.036611812591552\n",
      "-20.957882603645324\n",
      "-20.960978338241578\n",
      "num agg = 1\n",
      "num agg = 2\n",
      "num agg = 3\n",
      "num agg = 4\n",
      "num agg = 5\n",
      "num agg = 6\n",
      "num agg = 7\n",
      "num agg = 8\n",
      "num agg = 9\n",
      "num agg = 10\n",
      "num agg = 11\n",
      "num agg = 12\n",
      "num agg = 13\n",
      "num agg = 14\n",
      "num agg = 15\n",
      "num agg = 16\n",
      "num agg = 17\n",
      "num agg = 18\n",
      "num agg = 19\n",
      "num agg = 20\n",
      "num agg = 21\n",
      "num agg = 22\n",
      "num agg = 23\n",
      "num agg = 24\n",
      "num agg = 25\n",
      "num agg = 26\n",
      "num agg = 27\n",
      "num agg = 28\n",
      "num agg = 29\n",
      "num agg = 30\n",
      "num agg = 31\n",
      "num agg = 32\n",
      "num agg = 33\n",
      "num agg = 34\n",
      "num agg = 35\n",
      "num agg = 36\n",
      "num agg = 37\n",
      "num agg = 38\n",
      "num agg = 39\n",
      "num agg = 40\n",
      "num agg = 41\n",
      "num agg = 42\n",
      "num agg = 43\n",
      "num agg = 44\n",
      "num agg = 45\n",
      "num agg = 46\n",
      "num agg = 47\n",
      "num agg = 48\n",
      "num agg = 49\n",
      "num agg = 50\n",
      "num agg = 51\n",
      "num agg = 52\n",
      "num agg = 53\n",
      "num agg = 54\n",
      "num agg = 55\n",
      "num agg = 56\n",
      "-21.14906318283081\n",
      "num agg = 57\n"
     ]
    }
   ],
   "source": [
    "model.train(x_train, y_train, x_val, y_val, num_epochs=1000, num_workers=4)"
   ]
  },
  {
   "cell_type": "code",
   "execution_count": 9,
   "id": "efb55404",
   "metadata": {},
   "outputs": [],
   "source": [
    "avg_w = model.w_avg  # [K]\n",
    "avg_w2 = model.w2_avg  # [K]\n",
    "sigma = torch.abs(torch.diag(avg_w2 - avg_w ** 2))\n",
    "\n",
    "def sample_weights(model, sigma, scale=1):\n",
    "    with torch.no_grad():\n",
    "        avg_w = model.w_avg  # [K]\n",
    "        avg_w2 = model.w2_avg  # [K]\n",
    "        D = model.pre_D - avg_w[:, None]  # [d, K]\n",
    "        d = avg_w.shape[0]\n",
    "        K = model.K\n",
    "        z_1 = torch.randn((1, d))#, device=self.device)\n",
    "        z_2 = torch.randn((K, 1))#, device=self.device)\n",
    "\n",
    "        w = avg_w[None] + scale * (1.0 / np.sqrt(2.0)) * z_1 @ sigma ** 0.5\n",
    "        w += scale * (D @ z_2).T / np.sqrt(2 * (K - 1))\n",
    "        w = w[0]\n",
    "        \n",
    "        return w"
   ]
  },
  {
   "cell_type": "code",
   "execution_count": 10,
   "id": "f206ade3",
   "metadata": {},
   "outputs": [
    {
     "ename": "IndexError",
     "evalue": "index 1000 is out of bounds for dimension 0 with size 1000",
     "output_type": "error",
     "traceback": [
      "\u001b[0;31m---------------------------------------------------------------------------\u001b[0m",
      "\u001b[0;31mIndexError\u001b[0m                                Traceback (most recent call last)",
      "\u001b[0;32m/var/folders/l2/qr0c20693479xnfrzsnj719h0000gr/T/ipykernel_13501/2161497406.py\u001b[0m in \u001b[0;36m<module>\u001b[0;34m\u001b[0m\n\u001b[1;32m      1\u001b[0m \u001b[0msamples\u001b[0m \u001b[0;34m=\u001b[0m \u001b[0mtorch\u001b[0m\u001b[0;34m.\u001b[0m\u001b[0mzeros\u001b[0m\u001b[0;34m(\u001b[0m\u001b[0;34m[\u001b[0m\u001b[0;36m1000\u001b[0m\u001b[0;34m,\u001b[0m \u001b[0;36m20904\u001b[0m\u001b[0;34m]\u001b[0m\u001b[0;34m)\u001b[0m\u001b[0;34m\u001b[0m\u001b[0m\n\u001b[1;32m      2\u001b[0m \u001b[0;32mfor\u001b[0m \u001b[0mi\u001b[0m \u001b[0;32min\u001b[0m \u001b[0mrange\u001b[0m\u001b[0;34m(\u001b[0m\u001b[0;36m20904\u001b[0m\u001b[0;34m)\u001b[0m\u001b[0;34m:\u001b[0m\u001b[0;34m\u001b[0m\u001b[0m\n\u001b[0;32m----> 3\u001b[0;31m     \u001b[0msamples\u001b[0m\u001b[0;34m[\u001b[0m\u001b[0mi\u001b[0m\u001b[0;34m]\u001b[0m \u001b[0;34m=\u001b[0m \u001b[0msample_weights\u001b[0m\u001b[0;34m(\u001b[0m\u001b[0mmodel\u001b[0m\u001b[0;34m,\u001b[0m \u001b[0msigma\u001b[0m\u001b[0;34m)\u001b[0m\u001b[0;34m\u001b[0m\u001b[0m\n\u001b[0m",
      "\u001b[0;31mIndexError\u001b[0m: index 1000 is out of bounds for dimension 0 with size 1000"
     ]
    }
   ],
   "source": [
    "samples = torch.zeros([1000, 20904])\n",
    "for i in range(20904):\n",
    "    samples[i] = sample_weights(model, sigma)"
   ]
  },
  {
   "cell_type": "code",
   "execution_count": 16,
   "id": "d6345f7e",
   "metadata": {},
   "outputs": [],
   "source": [
    "samples_np = samples.detach().numpy()"
   ]
  },
  {
   "cell_type": "code",
   "execution_count": 17,
   "id": "d1ab49d7",
   "metadata": {},
   "outputs": [
    {
     "data": {
      "text/plain": [
       "tensor([[ 1.1318,  1.0939,  1.0449,  ..., -2.0204, -0.1713, 11.1377],\n",
       "        [ 1.1307,  1.0938,  1.0448,  ..., -2.0257, -0.1771, 11.1217],\n",
       "        [ 1.1313,  1.0940,  1.0448,  ..., -2.0249, -0.1782, 11.1365],\n",
       "        ...,\n",
       "        [ 1.1315,  1.0928,  1.0448,  ..., -2.0238, -0.1914, 11.1124],\n",
       "        [ 1.1316,  1.0942,  1.0449,  ..., -2.0205, -0.1705, 11.1422],\n",
       "        [ 1.1319,  1.0949,  1.0450,  ..., -2.0162, -0.1651, 11.1476]])"
      ]
     },
     "execution_count": 17,
     "metadata": {},
     "output_type": "execute_result"
    }
   ],
   "source": [
    "samples"
   ]
  },
  {
   "cell_type": "code",
   "execution_count": 19,
   "id": "f03d6979",
   "metadata": {},
   "outputs": [
    {
     "data": {
      "image/png": "[encoded data removed]",
      "text/plain": [
       "<Figure size 432x288 with 1 Axes>"
      ]
     },
     "metadata": {
      "needs_background": "light"
     },
     "output_type": "display_data"
    }
   ],
   "source": [
    "from matplotlib import pyplot as plt \n",
    "plt.hist(samples_np[:,1], 50);"
   ]
  },
  {
   "cell_type": "code",
   "execution_count": 27,
   "id": "4f4f4053",
   "metadata": {},
   "outputs": [
    {
     "name": "stdout",
     "output_type": "stream",
     "text": [
      "50\n",
      "101\n",
      "152\n",
      "203\n",
      "254\n",
      "305\n",
      "356\n",
      "407\n",
      "458\n",
      "509\n",
      "560\n",
      "611\n",
      "662\n",
      "713\n",
      "764\n",
      "815\n",
      "866\n",
      "917\n",
      "968\n"
     ]
    }
   ],
   "source": [
    "samps = torch.zeros([1000, 1000, 20])\n",
    "for i in range(1000):\n",
    "    if i%51 == 50: print(i)\n",
    "    samps[i] = model.forward_swag(x_val)"
   ]
  },
  {
   "cell_type": "code",
   "execution_count": 57,
   "id": "ab7eedcb",
   "metadata": {},
   "outputs": [],
   "source": [
    "mu, invcov = model.separate_mu_cov(samps[:,-2,:])"
   ]
  },
  {
   "cell_type": "code",
   "execution_count": 58,
   "id": "0879db86",
   "metadata": {},
   "outputs": [],
   "source": [
    "mean = mu.detach().numpy()\n",
    "cov = torch.inverse(invcov).detach().numpy()\n",
    "\n",
    "maxs = np.array([90, 0.05, 0.5, 3.5, 1])\n",
    "mins = np.array([50, 0.01, 0.01, 1.5, 0.8])\n",
    "\n",
    "mean = mean*(maxs-mins)+mins\n",
    "cmaxs = np.outer(maxs, maxs)\n",
    "cmins = np.outer(mins, mins)\n",
    "cov = cov*(cmaxs-cmins)\n",
    "#X = np.random.multivariate_normal(mean, cov, 10000)"
   ]
  },
  {
   "cell_type": "code",
   "execution_count": 59,
   "id": "3f4f3558",
   "metadata": {},
   "outputs": [
    {
     "name": "stderr",
     "output_type": "stream",
     "text": [
      "/Users/pablo/miniconda3/envs/swag/lib/python3.7/site-packages/ipykernel_launcher.py:3: RuntimeWarning: covariance is not positive-semidefinite.\n",
      "  This is separate from the ipykernel package so we can avoid doing imports until\n"
     ]
    }
   ],
   "source": [
    "X = np.zeros([1000, 100, 5])\n",
    "for i in range(1000):\n",
    "    X[i] = np.random.multivariate_normal(mean[i], cov[i], 100)\n",
    "    \n",
    "X = X.reshape([-1, 5])"
   ]
  },
  {
   "cell_type": "code",
   "execution_count": 60,
   "id": "757d7a05",
   "metadata": {},
   "outputs": [
    {
     "name": "stdout",
     "output_type": "stream",
     "text": [
      "Removed no burn in\n"
     ]
    }
   ],
   "source": [
    "import getdist.plots\n",
    "names = [\"H0\", \"omch2\",  \"ombh2\", \"As\", \"ns\"]\n",
    "labels =  [\"H_0\", \"\\Omega_\\mathrm{c} h^2\", \"\\Omega_\\mathrm{b} h^2\", \"\\log A\", \"n_s\"]\n",
    "swag = getdist.MCSamples(samples=X,names = names, labels = labels)"
   ]
  },
  {
   "cell_type": "code",
   "execution_count": 61,
   "id": "80979e6d",
   "metadata": {},
   "outputs": [
    {
     "data": {
      "image/png": "[encoded data removed]",
      "text/plain": [
       "<Figure size 720x720 with 15 Axes>"
      ]
     },
     "metadata": {
      "needs_background": "light"
     },
     "output_type": "display_data"
    }
   ],
   "source": [
    "g = getdist.plots.getSubplotPlotter()\n",
    "g.triangle_plot(swag,\n",
    "                filled = True,\n",
    "                markers={'H0':params[-2,0],\n",
    "                         'omch2':params[-2,1],\n",
    "                         'ombh2':params[-2,2],\n",
    "                         'As':params[-2,3],\n",
    "                         'ns':params[-2,4]})"
   ]
  }
 ],
 "metadata": {
  "kernelspec": {
   "display_name": "swag",
   "language": "python",
   "name": "swag"
  },
  "language_info": {
   "codemirror_mode": {
    "name": "ipython",
    "version": 3
   },
   "file_extension": ".py",
   "mimetype": "text/x-python",
   "name": "python",
   "nbconvert_exporter": "python",
   "pygments_lexer": "ipython3",
   "version": "3.7.0"
  }
 },
 "nbformat": 4,
 "nbformat_minor": 5
}
