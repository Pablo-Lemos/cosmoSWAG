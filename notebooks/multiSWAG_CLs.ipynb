{
 "cells": [
  {
   "cell_type": "markdown",
   "id": "arctic-reform",
   "metadata": {},
   "source": [
    "# multiSWAG_CLs\n",
    "\n",
    "This module gets cosmological constraints from simulations of the CMB Cls using MultiSWAG"
   ]
  },
  {
   "cell_type": "code",
   "execution_count": null,
   "id": "occasional-greenhouse",
   "metadata": {},
   "outputs": [],
   "source": [
    "import sys\n",
    "import numpy as np\n",
    "import torch\n",
    "sys.path.append(\"../cosmoswag\") \n",
    "from swag import SWAGModel\n",
    "from cmb_simulator import normalize_params, bin_cls"
   ]
  },
  {
   "cell_type": "markdown",
   "id": "small-investing",
   "metadata": {},
   "source": [
    "#### Load the data"
   ]
  },
  {
   "cell_type": "code",
   "execution_count": null,
   "id": "handed-mongolia",
   "metadata": {},
   "outputs": [],
   "source": [
    "cls = np.load('../cosmoswag/data/cmb_sims/cls.npy')\n",
    "params = np.load('../cosmoswag/data/cmb_sims/params.npy')\n",
    "\n",
    "theta_norm = normalize_params(params)\n",
    "_, binned_cls = bin_cls(cls, 250)\n",
    "\n",
    "x_train = torch.tensor(binned_cls[:-1000], dtype = torch.float32)\n",
    "y_train = torch.tensor(theta_norm[:-1000], dtype = torch.float32)\n",
    "x_val = torch.tensor(binned_cls[-1000:], dtype = torch.float32)\n",
    "y_val = torch.tensor(theta_norm[-1000:], dtype = torch.float32)"
   ]
  },
  {
   "cell_type": "markdown",
   "id": "favorite-shade",
   "metadata": {},
   "source": [
    "#### Set up the model"
   ]
  },
  {
   "cell_type": "code",
   "execution_count": null,
   "id": "registered-harrison",
   "metadata": {},
   "outputs": [],
   "source": [
    "nin = x_train.shape[1]\n",
    "npars = y_train.shape[1]\n",
    "model = SWAGModel(nin=nin, npars = npars)"
   ]
  },
  {
   "cell_type": "markdown",
   "id": "dental-nepal",
   "metadata": {},
   "source": [
    "#### Train the model"
   ]
  },
  {
   "cell_type": "code",
   "execution_count": 6,
   "id": "higher-village",
   "metadata": {},
   "outputs": [
    {
     "data": {
      "application/vnd.jupyter.widget-view+json": {
       "model_id": "0a8d450b7d9548fb994085654db3bf7c",
       "version_major": 2,
       "version_minor": 0
      },
      "text/plain": [
       "  0%|          | 0/10 [00:00<?, ?it/s]"
      ]
     },
     "metadata": {},
     "output_type": "display_data"
    },
    {
     "name": "stdout",
     "output_type": "stream",
     "text": [
      "-8.92919831329584\n",
      "-10.88437739610672\n",
      "num agg = 1\n",
      "num agg = 2\n",
      "num agg = 3\n",
      "num agg = 4\n",
      "num agg = 5\n",
      "num agg = 6\n",
      "num agg = 7\n",
      "num agg = 8\n",
      "num agg = 9\n",
      "num agg = 10\n",
      "num agg = 11\n",
      "num agg = 12\n",
      "num agg = 13\n",
      "num agg = 14\n",
      "num agg = 15\n",
      "num agg = 16\n",
      "num agg = 17\n",
      "num agg = 18\n",
      "num agg = 19\n",
      "num agg = 20\n",
      "num agg = 21\n",
      "num agg = 22\n",
      "num agg = 23\n",
      "num agg = 24\n",
      "num agg = 25\n",
      "num agg = 26\n",
      "num agg = 27\n",
      "num agg = 28\n",
      "num agg = 29\n",
      "num agg = 30\n",
      "num agg = 31\n",
      "num agg = 32\n",
      "num agg = 33\n",
      "num agg = 34\n",
      "num agg = 35\n",
      "num agg = 36\n",
      "num agg = 37\n",
      "num agg = 38\n",
      "num agg = 39\n",
      "num agg = 40\n",
      "num agg = 41\n",
      "num agg = 42\n",
      "num agg = 43\n",
      "num agg = 44\n",
      "num agg = 45\n",
      "num agg = 46\n",
      "num agg = 47\n",
      "num agg = 48\n",
      "num agg = 49\n",
      "num agg = 50\n",
      "num agg = 51\n",
      "num agg = 52\n",
      "num agg = 53\n",
      "num agg = 54\n",
      "num agg = 55\n",
      "num agg = 56\n",
      "num agg = 57\n"
     ]
    }
   ],
   "source": [
    "model.train(x_train, y_train, x_val, y_val, num_epochs=10)"
   ]
  },
  {
   "cell_type": "code",
   "execution_count": 19,
   "id": "applied-release",
   "metadata": {},
   "outputs": [
    {
     "data": {
      "text/plain": [
       "<All keys matched successfully>"
      ]
     },
     "execution_count": 19,
     "metadata": {},
     "output_type": "execute_result"
    }
   ],
   "source": [
    "model2 = SWAGModel(nin=nin, npars = npars)\n",
    "state_dict, _, _, _ = torch.load('../cosmoswag/data/saved_models/swag')\n",
    "model2.load_state_dict(state_dict)"
   ]
  },
  {
   "cell_type": "code",
   "execution_count": 22,
   "id": "employed-stationery",
   "metadata": {},
   "outputs": [
    {
     "data": {
      "text/plain": [
       "tensor([[  0.4166,   0.2309,   0.5073,   0.4582,   0.7829, -18.1192,  -6.0502,\n",
       "          -7.7167,  -4.7581, -10.9818,  37.7818,  20.4630,   5.0552,  -4.2194,\n",
       "         -38.2020,  11.4756,  -6.2343,  -3.6660,  -1.1974,  33.7999]],\n",
       "       grad_fn=<AddmmBackward>)"
      ]
     },
     "execution_count": 22,
     "metadata": {},
     "output_type": "execute_result"
    }
   ],
   "source": [
    "model2(x_train[:1])"
   ]
  },
  {
   "cell_type": "code",
   "execution_count": null,
   "id": "indoor-salad",
   "metadata": {},
   "outputs": [],
   "source": []
  }
 ],
 "metadata": {
  "kernelspec": {
   "display_name": "torch",
   "language": "python",
   "name": "torch"
  },
  "language_info": {
   "codemirror_mode": {
    "name": "ipython",
    "version": 3
   },
   "file_extension": ".py",
   "mimetype": "text/x-python",
   "name": "python",
   "nbconvert_exporter": "python",
   "pygments_lexer": "ipython3",
   "version": "3.7.0"
  }
 },
 "nbformat": 4,
 "nbformat_minor": 5
}
